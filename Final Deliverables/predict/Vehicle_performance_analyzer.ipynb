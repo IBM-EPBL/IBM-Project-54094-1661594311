{
 "cells": [
  {
   "cell_type": "code",
   "execution_count": 28,
   "metadata": {},
   "outputs": [],
   "source": [
    "import numpy as np\n",
    "import pandas as pd\n",
    "import matplotlib.pyplot as plt\n",
    "import seaborn as sns\n",
    "import statsmodels.formula.api as smf"
   ]
  },
  {
   "cell_type": "code",
   "execution_count": 29,
   "metadata": {},
   "outputs": [],
   "source": [
    "dataset = pd.read_csv(\"/home/agira/Desktop/test1/car performance-dataset.csv\")"
   ]
  },
  {
   "cell_type": "code",
   "execution_count": 30,
   "metadata": {},
   "outputs": [
    {
     "data": {
      "text/html": [
       "<div>\n",
       "<style scoped>\n",
       "    .dataframe tbody tr th:only-of-type {\n",
       "        vertical-align: middle;\n",
       "    }\n",
       "\n",
       "    .dataframe tbody tr th {\n",
       "        vertical-align: top;\n",
       "    }\n",
       "\n",
       "    .dataframe thead th {\n",
       "        text-align: right;\n",
       "    }\n",
       "</style>\n",
       "<table border=\"1\" class=\"dataframe\">\n",
       "  <thead>\n",
       "    <tr style=\"text-align: right;\">\n",
       "      <th></th>\n",
       "      <th>mpg</th>\n",
       "      <th>cylinders</th>\n",
       "      <th>displacement</th>\n",
       "      <th>horsepower</th>\n",
       "      <th>weight</th>\n",
       "      <th>acceleration</th>\n",
       "      <th>model year</th>\n",
       "      <th>origin</th>\n",
       "      <th>car name</th>\n",
       "    </tr>\n",
       "  </thead>\n",
       "  <tbody>\n",
       "    <tr>\n",
       "      <th>0</th>\n",
       "      <td>18.0</td>\n",
       "      <td>8</td>\n",
       "      <td>307.0</td>\n",
       "      <td>130</td>\n",
       "      <td>3504</td>\n",
       "      <td>12.0</td>\n",
       "      <td>70</td>\n",
       "      <td>1</td>\n",
       "      <td>chevrolet chevelle malibu</td>\n",
       "    </tr>\n",
       "    <tr>\n",
       "      <th>1</th>\n",
       "      <td>15.0</td>\n",
       "      <td>8</td>\n",
       "      <td>350.0</td>\n",
       "      <td>165</td>\n",
       "      <td>3693</td>\n",
       "      <td>11.5</td>\n",
       "      <td>70</td>\n",
       "      <td>1</td>\n",
       "      <td>buick skylark 320</td>\n",
       "    </tr>\n",
       "    <tr>\n",
       "      <th>2</th>\n",
       "      <td>18.0</td>\n",
       "      <td>8</td>\n",
       "      <td>318.0</td>\n",
       "      <td>150</td>\n",
       "      <td>3436</td>\n",
       "      <td>11.0</td>\n",
       "      <td>70</td>\n",
       "      <td>1</td>\n",
       "      <td>plymouth satellite</td>\n",
       "    </tr>\n",
       "    <tr>\n",
       "      <th>3</th>\n",
       "      <td>16.0</td>\n",
       "      <td>8</td>\n",
       "      <td>304.0</td>\n",
       "      <td>150</td>\n",
       "      <td>3433</td>\n",
       "      <td>12.0</td>\n",
       "      <td>70</td>\n",
       "      <td>1</td>\n",
       "      <td>amc rebel sst</td>\n",
       "    </tr>\n",
       "    <tr>\n",
       "      <th>4</th>\n",
       "      <td>17.0</td>\n",
       "      <td>8</td>\n",
       "      <td>302.0</td>\n",
       "      <td>140</td>\n",
       "      <td>3449</td>\n",
       "      <td>10.5</td>\n",
       "      <td>70</td>\n",
       "      <td>1</td>\n",
       "      <td>ford torino</td>\n",
       "    </tr>\n",
       "  </tbody>\n",
       "</table>\n",
       "</div>"
      ],
      "text/plain": [
       "    mpg  cylinders  displacement  horsepower  weight  acceleration  \\\n",
       "0  18.0          8         307.0         130    3504          12.0   \n",
       "1  15.0          8         350.0         165    3693          11.5   \n",
       "2  18.0          8         318.0         150    3436          11.0   \n",
       "3  16.0          8         304.0         150    3433          12.0   \n",
       "4  17.0          8         302.0         140    3449          10.5   \n",
       "\n",
       "   model year  origin                   car name  \n",
       "0          70       1  chevrolet chevelle malibu  \n",
       "1          70       1          buick skylark 320  \n",
       "2          70       1         plymouth satellite  \n",
       "3          70       1              amc rebel sst  \n",
       "4          70       1                ford torino  "
      ]
     },
     "execution_count": 30,
     "metadata": {},
     "output_type": "execute_result"
    }
   ],
   "source": [
    "dataset.head()"
   ]
  },
  {
   "cell_type": "code",
   "execution_count": 31,
   "metadata": {},
   "outputs": [
    {
     "data": {
      "text/plain": [
       "mpg             False\n",
       "cylinders       False\n",
       "displacement    False\n",
       "horsepower      False\n",
       "weight          False\n",
       "acceleration    False\n",
       "model year      False\n",
       "origin          False\n",
       "car name        False\n",
       "dtype: bool"
      ]
     },
     "execution_count": 31,
     "metadata": {},
     "output_type": "execute_result"
    }
   ],
   "source": [
    "dataset.isnull().any()"
   ]
  },
  {
   "cell_type": "code",
   "execution_count": 32,
   "metadata": {},
   "outputs": [
    {
     "name": "stdout",
     "output_type": "stream",
     "text": [
      "<class 'pandas.core.frame.DataFrame'>\n",
      "RangeIndex: 398 entries, 0 to 397\n",
      "Data columns (total 9 columns):\n",
      " #   Column        Non-Null Count  Dtype  \n",
      "---  ------        --------------  -----  \n",
      " 0   mpg           398 non-null    float64\n",
      " 1   cylinders     398 non-null    int64  \n",
      " 2   displacement  398 non-null    float64\n",
      " 3   horsepower    398 non-null    int64  \n",
      " 4   weight        398 non-null    int64  \n",
      " 5   acceleration  398 non-null    float64\n",
      " 6   model year    398 non-null    int64  \n",
      " 7   origin        398 non-null    int64  \n",
      " 8   car name      398 non-null    object \n",
      "dtypes: float64(3), int64(5), object(1)\n",
      "memory usage: 28.1+ KB\n"
     ]
    }
   ],
   "source": [
    "dataset.info()#dataset.info() is used to get quick overview of the dataset\n"
   ]
  },
  {
   "cell_type": "code",
   "execution_count": 33,
   "metadata": {},
   "outputs": [],
   "source": [
    "dataset = dataset.drop('car name',axis=1)"
   ]
  },
  {
   "cell_type": "code",
   "execution_count": 34,
   "metadata": {},
   "outputs": [],
   "source": [
    "x=dataset[['cylinders','displacement','horsepower','weight','acceleration','model year','origin']].values"
   ]
  },
  {
   "cell_type": "code",
   "execution_count": 35,
   "metadata": {},
   "outputs": [
    {
     "name": "stdout",
     "output_type": "stream",
     "text": [
      "[[  8.  307.  130.  ...  12.   70.    1. ]\n",
      " [  8.  350.  165.  ...  11.5  70.    1. ]\n",
      " [  8.  318.  150.  ...  11.   70.    1. ]\n",
      " ...\n",
      " [  4.  135.   84.  ...  11.6  82.    1. ]\n",
      " [  4.  120.   79.  ...  18.6  82.    1. ]\n",
      " [  4.  119.   82.  ...  19.4  82.    1. ]]\n"
     ]
    }
   ],
   "source": [
    "print(x)"
   ]
  },
  {
   "cell_type": "code",
   "execution_count": 37,
   "metadata": {},
   "outputs": [],
   "source": [
    "y=dataset.iloc[:,0:1].values\n",
    "\n"
   ]
  },
  {
   "cell_type": "code",
   "execution_count": 38,
   "metadata": {},
   "outputs": [
    {
     "data": {
      "text/plain": [
       "array([[18. ],\n",
       "       [15. ],\n",
       "       [18. ],\n",
       "       [16. ],\n",
       "       [17. ],\n",
       "       [15. ],\n",
       "       [14. ],\n",
       "       [14. ],\n",
       "       [14. ],\n",
       "       [15. ],\n",
       "       [15. ],\n",
       "       [14. ],\n",
       "       [15. ],\n",
       "       [14. ],\n",
       "       [24. ],\n",
       "       [22. ],\n",
       "       [18. ],\n",
       "       [21. ],\n",
       "       [27. ],\n",
       "       [26. ],\n",
       "       [25. ],\n",
       "       [24. ],\n",
       "       [25. ],\n",
       "       [26. ],\n",
       "       [21. ],\n",
       "       [10. ],\n",
       "       [10. ],\n",
       "       [11. ],\n",
       "       [ 9. ],\n",
       "       [27. ],\n",
       "       [28. ],\n",
       "       [25. ],\n",
       "       [25. ],\n",
       "       [19. ],\n",
       "       [16. ],\n",
       "       [17. ],\n",
       "       [19. ],\n",
       "       [18. ],\n",
       "       [14. ],\n",
       "       [14. ],\n",
       "       [14. ],\n",
       "       [14. ],\n",
       "       [12. ],\n",
       "       [13. ],\n",
       "       [13. ],\n",
       "       [18. ],\n",
       "       [22. ],\n",
       "       [19. ],\n",
       "       [18. ],\n",
       "       [23. ],\n",
       "       [28. ],\n",
       "       [30. ],\n",
       "       [30. ],\n",
       "       [31. ],\n",
       "       [35. ],\n",
       "       [27. ],\n",
       "       [26. ],\n",
       "       [24. ],\n",
       "       [25. ],\n",
       "       [23. ],\n",
       "       [20. ],\n",
       "       [21. ],\n",
       "       [13. ],\n",
       "       [14. ],\n",
       "       [15. ],\n",
       "       [14. ],\n",
       "       [17. ],\n",
       "       [11. ],\n",
       "       [13. ],\n",
       "       [12. ],\n",
       "       [13. ],\n",
       "       [19. ],\n",
       "       [15. ],\n",
       "       [13. ],\n",
       "       [13. ],\n",
       "       [14. ],\n",
       "       [18. ],\n",
       "       [22. ],\n",
       "       [21. ],\n",
       "       [26. ],\n",
       "       [22. ],\n",
       "       [28. ],\n",
       "       [23. ],\n",
       "       [28. ],\n",
       "       [27. ],\n",
       "       [13. ],\n",
       "       [14. ],\n",
       "       [13. ],\n",
       "       [14. ],\n",
       "       [15. ],\n",
       "       [12. ],\n",
       "       [13. ],\n",
       "       [13. ],\n",
       "       [14. ],\n",
       "       [13. ],\n",
       "       [12. ],\n",
       "       [13. ],\n",
       "       [18. ],\n",
       "       [16. ],\n",
       "       [18. ],\n",
       "       [18. ],\n",
       "       [23. ],\n",
       "       [26. ],\n",
       "       [11. ],\n",
       "       [12. ],\n",
       "       [13. ],\n",
       "       [12. ],\n",
       "       [18. ],\n",
       "       [20. ],\n",
       "       [21. ],\n",
       "       [22. ],\n",
       "       [18. ],\n",
       "       [19. ],\n",
       "       [21. ],\n",
       "       [26. ],\n",
       "       [15. ],\n",
       "       [16. ],\n",
       "       [29. ],\n",
       "       [24. ],\n",
       "       [20. ],\n",
       "       [19. ],\n",
       "       [15. ],\n",
       "       [24. ],\n",
       "       [20. ],\n",
       "       [11. ],\n",
       "       [20. ],\n",
       "       [21. ],\n",
       "       [19. ],\n",
       "       [15. ],\n",
       "       [31. ],\n",
       "       [26. ],\n",
       "       [32. ],\n",
       "       [25. ],\n",
       "       [16. ],\n",
       "       [16. ],\n",
       "       [18. ],\n",
       "       [16. ],\n",
       "       [13. ],\n",
       "       [14. ],\n",
       "       [14. ],\n",
       "       [14. ],\n",
       "       [29. ],\n",
       "       [26. ],\n",
       "       [26. ],\n",
       "       [31. ],\n",
       "       [32. ],\n",
       "       [28. ],\n",
       "       [24. ],\n",
       "       [26. ],\n",
       "       [24. ],\n",
       "       [26. ],\n",
       "       [31. ],\n",
       "       [19. ],\n",
       "       [18. ],\n",
       "       [15. ],\n",
       "       [15. ],\n",
       "       [16. ],\n",
       "       [15. ],\n",
       "       [16. ],\n",
       "       [14. ],\n",
       "       [17. ],\n",
       "       [16. ],\n",
       "       [15. ],\n",
       "       [18. ],\n",
       "       [21. ],\n",
       "       [20. ],\n",
       "       [13. ],\n",
       "       [29. ],\n",
       "       [23. ],\n",
       "       [20. ],\n",
       "       [23. ],\n",
       "       [24. ],\n",
       "       [25. ],\n",
       "       [24. ],\n",
       "       [18. ],\n",
       "       [29. ],\n",
       "       [19. ],\n",
       "       [23. ],\n",
       "       [23. ],\n",
       "       [22. ],\n",
       "       [25. ],\n",
       "       [33. ],\n",
       "       [28. ],\n",
       "       [25. ],\n",
       "       [25. ],\n",
       "       [26. ],\n",
       "       [27. ],\n",
       "       [17.5],\n",
       "       [16. ],\n",
       "       [15.5],\n",
       "       [14.5],\n",
       "       [22. ],\n",
       "       [22. ],\n",
       "       [24. ],\n",
       "       [22.5],\n",
       "       [29. ],\n",
       "       [24.5],\n",
       "       [29. ],\n",
       "       [33. ],\n",
       "       [20. ],\n",
       "       [18. ],\n",
       "       [18.5],\n",
       "       [17.5],\n",
       "       [29.5],\n",
       "       [32. ],\n",
       "       [28. ],\n",
       "       [26.5],\n",
       "       [20. ],\n",
       "       [13. ],\n",
       "       [19. ],\n",
       "       [19. ],\n",
       "       [16.5],\n",
       "       [16.5],\n",
       "       [13. ],\n",
       "       [13. ],\n",
       "       [13. ],\n",
       "       [31.5],\n",
       "       [30. ],\n",
       "       [36. ],\n",
       "       [25.5],\n",
       "       [33.5],\n",
       "       [17.5],\n",
       "       [17. ],\n",
       "       [15.5],\n",
       "       [15. ],\n",
       "       [17.5],\n",
       "       [20.5],\n",
       "       [19. ],\n",
       "       [18.5],\n",
       "       [16. ],\n",
       "       [15.5],\n",
       "       [15.5],\n",
       "       [16. ],\n",
       "       [29. ],\n",
       "       [24.5],\n",
       "       [26. ],\n",
       "       [25.5],\n",
       "       [30.5],\n",
       "       [33.5],\n",
       "       [30. ],\n",
       "       [30.5],\n",
       "       [22. ],\n",
       "       [21.5],\n",
       "       [21.5],\n",
       "       [43.1],\n",
       "       [36.1],\n",
       "       [32.8],\n",
       "       [39.4],\n",
       "       [36.1],\n",
       "       [19.9],\n",
       "       [19.4],\n",
       "       [20.2],\n",
       "       [19.2],\n",
       "       [20.5],\n",
       "       [20.2],\n",
       "       [25.1],\n",
       "       [20.5],\n",
       "       [19.4],\n",
       "       [20.6],\n",
       "       [20.8],\n",
       "       [18.6],\n",
       "       [18.1],\n",
       "       [19.2],\n",
       "       [17.7],\n",
       "       [18.1],\n",
       "       [17.5],\n",
       "       [30. ],\n",
       "       [27.5],\n",
       "       [27.2],\n",
       "       [30.9],\n",
       "       [21.1],\n",
       "       [23.2],\n",
       "       [23.8],\n",
       "       [23.9],\n",
       "       [20.3],\n",
       "       [17. ],\n",
       "       [21.6],\n",
       "       [16.2],\n",
       "       [31.5],\n",
       "       [29.5],\n",
       "       [21.5],\n",
       "       [19.8],\n",
       "       [22.3],\n",
       "       [20.2],\n",
       "       [20.6],\n",
       "       [17. ],\n",
       "       [17.6],\n",
       "       [16.5],\n",
       "       [18.2],\n",
       "       [16.9],\n",
       "       [15.5],\n",
       "       [19.2],\n",
       "       [18.5],\n",
       "       [31.9],\n",
       "       [34.1],\n",
       "       [35.7],\n",
       "       [27.4],\n",
       "       [25.4],\n",
       "       [23. ],\n",
       "       [27.2],\n",
       "       [23.9],\n",
       "       [34.2],\n",
       "       [34.5],\n",
       "       [31.8],\n",
       "       [37.3],\n",
       "       [28.4],\n",
       "       [28.8],\n",
       "       [26.8],\n",
       "       [33.5],\n",
       "       [41.5],\n",
       "       [38.1],\n",
       "       [32.1],\n",
       "       [37.2],\n",
       "       [28. ],\n",
       "       [26.4],\n",
       "       [24.3],\n",
       "       [19.1],\n",
       "       [34.3],\n",
       "       [29.8],\n",
       "       [31.3],\n",
       "       [37. ],\n",
       "       [32.2],\n",
       "       [46.6],\n",
       "       [27.9],\n",
       "       [40.8],\n",
       "       [44.3],\n",
       "       [43.4],\n",
       "       [36.4],\n",
       "       [30. ],\n",
       "       [44.6],\n",
       "       [40.9],\n",
       "       [33.8],\n",
       "       [29.8],\n",
       "       [32.7],\n",
       "       [23.7],\n",
       "       [35. ],\n",
       "       [23.6],\n",
       "       [32.4],\n",
       "       [27.2],\n",
       "       [26.6],\n",
       "       [25.8],\n",
       "       [23.5],\n",
       "       [30. ],\n",
       "       [39.1],\n",
       "       [39. ],\n",
       "       [35.1],\n",
       "       [32.3],\n",
       "       [37. ],\n",
       "       [37.7],\n",
       "       [34.1],\n",
       "       [34.7],\n",
       "       [34.4],\n",
       "       [29.9],\n",
       "       [33. ],\n",
       "       [34.5],\n",
       "       [33.7],\n",
       "       [32.4],\n",
       "       [32.9],\n",
       "       [31.6],\n",
       "       [28.1],\n",
       "       [30.7],\n",
       "       [25.4],\n",
       "       [24.2],\n",
       "       [22.4],\n",
       "       [26.6],\n",
       "       [20.2],\n",
       "       [17.6],\n",
       "       [28. ],\n",
       "       [27. ],\n",
       "       [34. ],\n",
       "       [31. ],\n",
       "       [29. ],\n",
       "       [27. ],\n",
       "       [24. ],\n",
       "       [23. ],\n",
       "       [36. ],\n",
       "       [37. ],\n",
       "       [31. ],\n",
       "       [38. ],\n",
       "       [36. ],\n",
       "       [36. ],\n",
       "       [36. ],\n",
       "       [34. ],\n",
       "       [38. ],\n",
       "       [32. ],\n",
       "       [38. ],\n",
       "       [25. ],\n",
       "       [38. ],\n",
       "       [26. ],\n",
       "       [22. ],\n",
       "       [32. ],\n",
       "       [36. ],\n",
       "       [27. ],\n",
       "       [27. ],\n",
       "       [44. ],\n",
       "       [32. ],\n",
       "       [28. ],\n",
       "       [31. ]])"
      ]
     },
     "execution_count": 38,
     "metadata": {},
     "output_type": "execute_result"
    }
   ],
   "source": [
    "y"
   ]
  },
  {
   "cell_type": "code",
   "execution_count": 39,
   "metadata": {},
   "outputs": [],
   "source": [
    "from sklearn.model_selection import train_test_split"
   ]
  },
  {
   "cell_type": "code",
   "execution_count": 59,
   "metadata": {},
   "outputs": [],
   "source": [
    "x_train,x_test,y_train,y_test=train_test_split(x,y,test_size=0.25,random_state=0)"
   ]
  },
  {
   "cell_type": "code",
   "execution_count": 60,
   "metadata": {},
   "outputs": [
    {
     "data": {
      "text/plain": [
       "array([[  6. , 200. ,  85. , ...,  15.8,  78. ,   1. ],\n",
       "       [  4. ,  78. ,  52. , ...,  19.4,  78. ,   3. ],\n",
       "       [  4. , 140. ,  88. , ...,  17.3,  79. ,   1. ],\n",
       "       ...,\n",
       "       [  4. ,  68. ,  49. , ...,  19.5,  73. ,   2. ],\n",
       "       [  6. , 250. , 100. , ...,  15. ,  71. ,   1. ],\n",
       "       [  4. ,  90. ,  71. , ...,  16.5,  75. ,   2. ]])"
      ]
     },
     "execution_count": 60,
     "metadata": {},
     "output_type": "execute_result"
    }
   ],
   "source": [
    "x_train"
   ]
  },
  {
   "cell_type": "code",
   "execution_count": 62,
   "metadata": {},
   "outputs": [],
   "source": [
    "# from sklearn.preprocessing import StandardScaler\n",
    "# sd = StandardScaler()\n",
    "# x__train = sd.fit_transform(x_train)\n",
    "# x__test = sd.fit_transform(x_test)\n",
    "# y__train = sd.fit_transform(y_train)\n",
    "# y__test = sd.fit_transform(y_test)\n",
    "\n",
    "# x__train"
   ]
  },
  {
   "cell_type": "code",
   "execution_count": 63,
   "metadata": {},
   "outputs": [],
   "source": [
    "from sklearn.ensemble import RandomForestRegressor"
   ]
  },
  {
   "cell_type": "code",
   "execution_count": 64,
   "metadata": {},
   "outputs": [
    {
     "data": {
      "text/html": [
       "<style>#sk-container-id-5 {color: black;background-color: white;}#sk-container-id-5 pre{padding: 0;}#sk-container-id-5 div.sk-toggleable {background-color: white;}#sk-container-id-5 label.sk-toggleable__label {cursor: pointer;display: block;width: 100%;margin-bottom: 0;padding: 0.3em;box-sizing: border-box;text-align: center;}#sk-container-id-5 label.sk-toggleable__label-arrow:before {content: \"▸\";float: left;margin-right: 0.25em;color: #696969;}#sk-container-id-5 label.sk-toggleable__label-arrow:hover:before {color: black;}#sk-container-id-5 div.sk-estimator:hover label.sk-toggleable__label-arrow:before {color: black;}#sk-container-id-5 div.sk-toggleable__content {max-height: 0;max-width: 0;overflow: hidden;text-align: left;background-color: #f0f8ff;}#sk-container-id-5 div.sk-toggleable__content pre {margin: 0.2em;color: black;border-radius: 0.25em;background-color: #f0f8ff;}#sk-container-id-5 input.sk-toggleable__control:checked~div.sk-toggleable__content {max-height: 200px;max-width: 100%;overflow: auto;}#sk-container-id-5 input.sk-toggleable__control:checked~label.sk-toggleable__label-arrow:before {content: \"▾\";}#sk-container-id-5 div.sk-estimator input.sk-toggleable__control:checked~label.sk-toggleable__label {background-color: #d4ebff;}#sk-container-id-5 div.sk-label input.sk-toggleable__control:checked~label.sk-toggleable__label {background-color: #d4ebff;}#sk-container-id-5 input.sk-hidden--visually {border: 0;clip: rect(1px 1px 1px 1px);clip: rect(1px, 1px, 1px, 1px);height: 1px;margin: -1px;overflow: hidden;padding: 0;position: absolute;width: 1px;}#sk-container-id-5 div.sk-estimator {font-family: monospace;background-color: #f0f8ff;border: 1px dotted black;border-radius: 0.25em;box-sizing: border-box;margin-bottom: 0.5em;}#sk-container-id-5 div.sk-estimator:hover {background-color: #d4ebff;}#sk-container-id-5 div.sk-parallel-item::after {content: \"\";width: 100%;border-bottom: 1px solid gray;flex-grow: 1;}#sk-container-id-5 div.sk-label:hover label.sk-toggleable__label {background-color: #d4ebff;}#sk-container-id-5 div.sk-serial::before {content: \"\";position: absolute;border-left: 1px solid gray;box-sizing: border-box;top: 0;bottom: 0;left: 50%;z-index: 0;}#sk-container-id-5 div.sk-serial {display: flex;flex-direction: column;align-items: center;background-color: white;padding-right: 0.2em;padding-left: 0.2em;position: relative;}#sk-container-id-5 div.sk-item {position: relative;z-index: 1;}#sk-container-id-5 div.sk-parallel {display: flex;align-items: stretch;justify-content: center;background-color: white;position: relative;}#sk-container-id-5 div.sk-item::before, #sk-container-id-5 div.sk-parallel-item::before {content: \"\";position: absolute;border-left: 1px solid gray;box-sizing: border-box;top: 0;bottom: 0;left: 50%;z-index: -1;}#sk-container-id-5 div.sk-parallel-item {display: flex;flex-direction: column;z-index: 1;position: relative;background-color: white;}#sk-container-id-5 div.sk-parallel-item:first-child::after {align-self: flex-end;width: 50%;}#sk-container-id-5 div.sk-parallel-item:last-child::after {align-self: flex-start;width: 50%;}#sk-container-id-5 div.sk-parallel-item:only-child::after {width: 0;}#sk-container-id-5 div.sk-dashed-wrapped {border: 1px dashed gray;margin: 0 0.4em 0.5em 0.4em;box-sizing: border-box;padding-bottom: 0.4em;background-color: white;}#sk-container-id-5 div.sk-label label {font-family: monospace;font-weight: bold;display: inline-block;line-height: 1.2em;}#sk-container-id-5 div.sk-label-container {text-align: center;}#sk-container-id-5 div.sk-container {/* jupyter's `normalize.less` sets `[hidden] { display: none; }` but bootstrap.min.css set `[hidden] { display: none !important; }` so we also need the `!important` here to be able to override the default hidden behavior on the sphinx rendered scikit-learn.org. See: https://github.com/scikit-learn/scikit-learn/issues/21755 */display: inline-block !important;position: relative;}#sk-container-id-5 div.sk-text-repr-fallback {display: none;}</style><div id=\"sk-container-id-5\" class=\"sk-top-container\"><div class=\"sk-text-repr-fallback\"><pre>RandomForestRegressor(n_estimators=10, random_state=0)</pre><b>In a Jupyter environment, please rerun this cell to show the HTML representation or trust the notebook. <br />On GitHub, the HTML representation is unable to render, please try loading this page with nbviewer.org.</b></div><div class=\"sk-container\" hidden><div class=\"sk-item\"><div class=\"sk-estimator sk-toggleable\"><input class=\"sk-toggleable__control sk-hidden--visually\" id=\"sk-estimator-id-5\" type=\"checkbox\" checked><label for=\"sk-estimator-id-5\" class=\"sk-toggleable__label sk-toggleable__label-arrow\">RandomForestRegressor</label><div class=\"sk-toggleable__content\"><pre>RandomForestRegressor(n_estimators=10, random_state=0)</pre></div></div></div></div></div>"
      ],
      "text/plain": [
       "RandomForestRegressor(n_estimators=10, random_state=0)"
      ]
     },
     "execution_count": 64,
     "metadata": {},
     "output_type": "execute_result"
    }
   ],
   "source": [
    "rf= RandomForestRegressor(n_estimators=10,random_state=0)\n",
    "rf.fit(x_train,y_train.ravel())"
   ]
  },
  {
   "cell_type": "code",
   "execution_count": 65,
   "metadata": {},
   "outputs": [],
   "source": [
    "y_pred =rf.predict(x_test)\n"
   ]
  },
  {
   "cell_type": "code",
   "execution_count": 66,
   "metadata": {},
   "outputs": [
    {
     "data": {
      "text/plain": [
       "array([13.7 , 24.68, 14.9 , 19.45, 18.5 , 31.6 , 34.17, 20.7 , 14.7 ,\n",
       "       24.82, 35.92, 35.84, 19.8 , 27.6 , 16.42, 31.16, 27.64, 27.01,\n",
       "       17.2 , 38.44, 14.95, 23.11, 23.12, 20.01, 31.69, 26.42, 32.28,\n",
       "       30.51, 31.4 , 16.4 , 19.18, 33.27, 18.22, 33.09, 20.35, 23.96,\n",
       "       18.43, 16.12, 37.44, 11.7 , 12.9 , 15.2 , 28.03, 32.59, 28.94,\n",
       "       21.16, 18.33, 14.15, 20.71, 30.  , 33.75, 25.5 , 16.92, 26.  ,\n",
       "       14.8 , 11.6 , 20.6 , 21.52, 31.33, 15.64, 17.84, 24.45, 19.6 ,\n",
       "       21.9 , 13.  , 14.4 , 13.1 , 16.9 , 24.16, 12.6 , 36.68, 13.2 ,\n",
       "       22.  , 18.15, 23.69, 30.03, 28.37, 30.7 , 27.  , 13.9 , 13.8 ,\n",
       "       28.7 , 31.72, 30.61, 34.53, 37.43, 29.82, 19.75, 29.82, 33.43,\n",
       "       29.05, 12.9 , 22.8 , 32.82, 31.53, 19.03, 18.33, 25.6 , 20.26,\n",
       "       13.  ])"
      ]
     },
     "execution_count": 66,
     "metadata": {},
     "output_type": "execute_result"
    }
   ],
   "source": [
    "y_pred"
   ]
  },
  {
   "cell_type": "code",
   "execution_count": 67,
   "metadata": {},
   "outputs": [],
   "source": [
    "from sklearn.metrics import r2_score"
   ]
  },
  {
   "cell_type": "code",
   "execution_count": 68,
   "metadata": {},
   "outputs": [],
   "source": [
    "accuracy = r2_score(y_test,y_pred)\n"
   ]
  },
  {
   "cell_type": "code",
   "execution_count": 69,
   "metadata": {},
   "outputs": [
    {
     "data": {
      "text/plain": [
       "0.8916305495781726"
      ]
     },
     "execution_count": 69,
     "metadata": {},
     "output_type": "execute_result"
    }
   ],
   "source": [
    "accuracy"
   ]
  },
  {
   "cell_type": "code",
   "execution_count": 70,
   "metadata": {},
   "outputs": [],
   "source": [
    "import pickle\n",
    "pickle.dump(rf,open('regression3.pkl','wb'))"
   ]
  },
  {
   "cell_type": "code",
   "execution_count": null,
   "metadata": {},
   "outputs": [],
   "source": []
  }
 ],
 "metadata": {
  "kernelspec": {
   "display_name": "Python 3.8.10 64-bit",
   "language": "python",
   "name": "python3"
  },
  "language_info": {
   "codemirror_mode": {
    "name": "ipython",
    "version": 3
   },
   "file_extension": ".py",
   "mimetype": "text/x-python",
   "name": "python",
   "nbconvert_exporter": "python",
   "pygments_lexer": "ipython3",
   "version": "3.8.10"
  },
  "orig_nbformat": 4,
  "vscode": {
   "interpreter": {
    "hash": "916dbcbb3f70747c44a77c7bcd40155683ae19c65e1c03b4aa3499c5328201f1"
   }
  }
 },
 "nbformat": 4,
 "nbformat_minor": 2
}
